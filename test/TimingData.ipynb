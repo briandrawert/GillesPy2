{
 "cells": [
  {
   "cell_type": "markdown",
   "metadata": {},
   "source": [
    "# Timing Data"
   ]
  },
  {
   "cell_type": "code",
   "execution_count": null,
   "metadata": {},
   "outputs": [],
   "source": [
    "from time_solvers import timed_trials, plot_solver_run_times\n",
    "import numpy as np\n",
    "import matplotlib.pyplot as plt\n",
    "import gillespy2"
   ]
  },
  {
   "cell_type": "code",
   "execution_count": null,
   "metadata": {},
   "outputs": [],
   "source": [
    "#Helper method for gathering imported items of a specific type:\n",
    "def imported_classes(match_type):\n",
    "    items = []\n",
    "    key, value = None, None\n",
    "    for key, value in globals().items():\n",
    "        if isinstance(value, type) and issubclass(value, match_type) and value not in items:\n",
    "            items.append(value)\n",
    "    return items"
   ]
  },
  {
   "cell_type": "code",
   "execution_count": null,
   "metadata": {},
   "outputs": [],
   "source": [
    "from gillespy2.example_models import *\n",
    "#Trichloroethylene, LacOperon, Schlogl, MichaelisMenten, ToggleSwitch, Example, Tyson2StateOscillator\n",
    "models = [MichaelisMenten(), Example(), Trichloroethylene()]#model() for model in imported_classes(gillespy2.Model)]\n",
    "print('Imported models:')\n",
    "for i, model in enumerate(models):\n",
    "    print('{}:\\t{}'.format(i+1, model.name))"
   ]
  },
  {
   "cell_type": "code",
   "execution_count": null,
   "metadata": {},
   "outputs": [],
   "source": [
    "from gillespy2.solvers.python import *\n",
    "#BasicSSASolver\n",
    "from gillespy2.solvers.numpy import *\n",
    "#BasicODESolver, BasicRootSolver, BasicTauLeapingSolver, NumPySSASolver, TauLeapingSolver\n",
    "from gillespy2.solvers.cython import *\n",
    "#CythonSSASolver\n",
    "from gillespy2.solvers.cpp import *\n",
    "#SSACSolver\n",
    "from gillespy2.solvers.auto import *\n",
    "#SSASolver\n",
    "from gillespy2.solvers.stochkit import *\n",
    "#StochKitODESolver, StochKitSolver\n",
    "solvers = imported_classes(gillespy2.GillesPySolver)\n",
    "solvers.remove(BasicODESolver)\n",
    "solvers.remove(StochKitODESolver)\n",
    "solvers.remove(TauLeapingSolver)\n",
    "print('Imported solvers:')\n",
    "for i, solver in enumerate(solvers):\n",
    "    print('{}:\\t{}'.format(i+1, solver.__name__))"
   ]
  },
  {
   "cell_type": "code",
   "execution_count": null,
   "metadata": {
    "scrolled": false
   },
   "outputs": [],
   "source": [
    "trajectories = [2**i for i in range(11)]\n",
    "timing_data = timed_trials(models, solvers, trajectories, number_trials=30, output_file='timing_data.pkl')"
   ]
  },
  {
   "cell_type": "code",
   "execution_count": null,
   "metadata": {},
   "outputs": [],
   "source": [
    "#Ideally, we can run the timed tests once and save the results for later in a .pkl file\n",
    "import pickle\n",
    "with open('timing_data.pkl', 'rb') as f:\n",
    "    timing_data = pickle.load(f)\n",
    "    \n"
   ]
  },
  {
   "cell_type": "code",
   "execution_count": null,
   "metadata": {},
   "outputs": [],
   "source": [
    "%matplotlib inline\n",
    "styles = {\n",
    "    'StochKitSolver' : 'r*-',\n",
    "    'SSACSolver' : 'g*-',\n",
    "    'CythonSSASolver' : 'b*-',\n",
    "    'NumPySSASolver' : 'k*-',\n",
    "    'BasicTauHybridSolver' : 'y*-',\n",
    "    'BasicTauLeapingSolver' : 'm*-'\n",
    "}\n",
    "plot_solver_run_times(timing_data, line_styles=styles)"
   ]
  },
  {
   "cell_type": "code",
   "execution_count": null,
   "metadata": {},
   "outputs": [],
   "source": [
    "plot_solver_run_times(timing_data, line_styles=styles, ylabel='Log(seconds)', transformation=np.log)"
   ]
  },
  {
   "cell_type": "code",
   "execution_count": null,
   "metadata": {},
   "outputs": [],
   "source": [
    "plot_solver_run_times(timing_data, line_styles=styles, ylabel='Relative Speed to Stochkit', baseline_solver_name=StochKitSolver.name)"
   ]
  },
  {
   "cell_type": "code",
   "execution_count": null,
   "metadata": {},
   "outputs": [],
   "source": [
    "import matplotlib.pyplot as plt\n",
    "ylabel='Average run time (s)'\n",
    "reduce=np.mean\n",
    "line_styles=styles"
   ]
  },
  {
   "cell_type": "code",
   "execution_count": null,
   "metadata": {
    "scrolled": false
   },
   "outputs": [],
   "source": [
    "model_names = timing_data.keys()\n",
    "for model in model_names:\n",
    "    plt.figure(figsize=(10,8))\n",
    "    plt.title('{} Timing Results'.format(model))\n",
    "    plt.xlabel('Trajectories', fontsize=16)\n",
    "    plt.ylabel(ylabel, fontsize=16)\n",
    "    baseline = None\n",
    "    #if baseline_solver_name is not None:\n",
    "    #    baseline = reduce(timing_data[model][baseline_solver_name][:, 1:], axis=1)\n",
    "    #    if transformation is not None:\n",
    "    #        baseline = transformation(times)\n",
    "    solver_names = timing_data[model].keys()\n",
    "    for solver in solver_names:\n",
    "        trajectories = timing_data[model][solver][:,0]\n",
    "        times = reduce(timing_data[model][solver][:, 1:], axis=1)\n",
    "        #if transformation is not None:\n",
    "        #    times = transformation(times)\n",
    "        #if baseline is not None:\n",
    "        #    times = np.divide(baseline, times)\n",
    "        if solver in line_styles:\n",
    "            plt.plot(trajectories, times, line_styles[solver], label=solver)\n",
    "        else:\n",
    "            plt.plot(trajectories, times, label=solver)\n",
    "    plt.legend(loc='best', fontsize=16)\n"
   ]
  },
  {
   "cell_type": "code",
   "execution_count": null,
   "metadata": {},
   "outputs": [],
   "source": [
    "ylabel='Average run time (s)'\n",
    "reduce=np.mean\n",
    "line_styles={\n",
    "    'StochKitSolver' : 'r*-',\n",
    "    'SSACSolver' : 'g*-',\n",
    "    'CythonSSASolver' : 'b*-',\n",
    "    'NumPySSASolver' : 'k*-',\n",
    "    'BasicTauHybridSolver' : 'y*-',\n",
    "    'BasicTauLeapingSolver' : 'm*-'\n",
    "}\n",
    "model_names = timing_data.keys()\n",
    "for model in model_names:\n",
    "    plt.figure(figsize=(10,8))\n",
    "    plt.title('{} Timing Results'.format(model))\n",
    "    plt.xlabel('Trajectories', fontsize=16)\n",
    "    plt.ylabel(ylabel, fontsize=16)\n",
    "    baseline = None\n",
    "    #if baseline_solver_name is not None:\n",
    "    #    baseline = reduce(timing_data[model][baseline_solver_name][:, 1:], axis=1)\n",
    "    #    if transformation is not None:\n",
    "    #        baseline = transformation(times)\n",
    "    #solver_names = timing_data[model].keys()\n",
    "    solver_names = ['StochKitSolver', 'NumPySSASolver', 'CythonSSASolver', 'SSACSolver']\n",
    "    for solver in solver_names:\n",
    "        trajectories = timing_data[model][solver][:,0]\n",
    "        times = reduce(timing_data[model][solver][:, 1:], axis=1)\n",
    "        #if transformation is not None:\n",
    "        #    times = transformation(times)\n",
    "        #if baseline is not None:\n",
    "        #    times = np.divide(baseline, times)\n",
    "        if solver in line_styles:\n",
    "            plt.plot(trajectories, times, line_styles[solver], label=solver)\n",
    "        else:\n",
    "            plt.plot(trajectories, times, label=solver)\n",
    "    plt.legend(loc='best', fontsize=16)\n"
   ]
  },
  {
   "cell_type": "code",
   "execution_count": null,
   "metadata": {},
   "outputs": [],
   "source": []
  }
 ],
 "metadata": {
  "kernelspec": {
   "display_name": "Python 3",
   "language": "python",
   "name": "python3"
  },
  "language_info": {
   "codemirror_mode": {
    "name": "ipython",
    "version": 3
   },
   "file_extension": ".py",
   "mimetype": "text/x-python",
   "name": "python",
   "nbconvert_exporter": "python",
   "pygments_lexer": "ipython3",
   "version": "3.6.3"
  }
 },
 "nbformat": 4,
 "nbformat_minor": 2
}
